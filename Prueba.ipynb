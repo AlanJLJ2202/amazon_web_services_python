{
 "cells": [
  {
   "cell_type": "code",
   "execution_count": 2,
   "id": "23686016",
   "metadata": {},
   "outputs": [
    {
     "name": "stdout",
     "output_type": "stream",
     "text": [
      "<IntegerArray>\n",
      "[1, 2, 3]\n",
      "Length: 3, dtype: Int64\n"
     ]
    }
   ],
   "source": [
    "import boto3 as boto3\n",
    "import pandas as pd\n",
    "from io import StringIO\n",
    "\n",
    "test = pd.array([1,2,3])\n",
    "print(test)"
   ]
  },
  {
   "cell_type": "code",
   "execution_count": 3,
   "id": "6b54415c",
   "metadata": {},
   "outputs": [
    {
     "name": "stdout",
     "output_type": "stream",
     "text": [
      "[s3.ObjectSummary(bucket_name='xetra-1234', key='2022-01-28/2022-01-28_BINS_XETR00.csv'), s3.ObjectSummary(bucket_name='xetra-1234', key='2022-01-28/2022-01-28_BINS_XETR01.csv'), s3.ObjectSummary(bucket_name='xetra-1234', key='2022-01-28/2022-01-28_BINS_XETR02.csv'), s3.ObjectSummary(bucket_name='xetra-1234', key='2022-01-28/2022-01-28_BINS_XETR03.csv'), s3.ObjectSummary(bucket_name='xetra-1234', key='2022-01-28/2022-01-28_BINS_XETR04.csv'), s3.ObjectSummary(bucket_name='xetra-1234', key='2022-01-28/2022-01-28_BINS_XETR05.csv'), s3.ObjectSummary(bucket_name='xetra-1234', key='2022-01-28/2022-01-28_BINS_XETR06.csv'), s3.ObjectSummary(bucket_name='xetra-1234', key='2022-01-28/2022-01-28_BINS_XETR07.csv'), s3.ObjectSummary(bucket_name='xetra-1234', key='2022-01-28/2022-01-28_BINS_XETR08.csv'), s3.ObjectSummary(bucket_name='xetra-1234', key='2022-01-28/2022-01-28_BINS_XETR09.csv'), s3.ObjectSummary(bucket_name='xetra-1234', key='2022-01-28/2022-01-28_BINS_XETR10.csv'), s3.ObjectSummary(bucket_name='xetra-1234', key='2022-01-28/2022-01-28_BINS_XETR11.csv'), s3.ObjectSummary(bucket_name='xetra-1234', key='2022-01-28/2022-01-28_BINS_XETR12.csv'), s3.ObjectSummary(bucket_name='xetra-1234', key='2022-01-28/2022-01-28_BINS_XETR13.csv'), s3.ObjectSummary(bucket_name='xetra-1234', key='2022-01-28/2022-01-28_BINS_XETR14.csv'), s3.ObjectSummary(bucket_name='xetra-1234', key='2022-01-28/2022-01-28_BINS_XETR15.csv'), s3.ObjectSummary(bucket_name='xetra-1234', key='2022-01-28/2022-01-28_BINS_XETR16.csv'), s3.ObjectSummary(bucket_name='xetra-1234', key='2022-01-28/2022-01-28_BINS_XETR17.csv'), s3.ObjectSummary(bucket_name='xetra-1234', key='2022-01-28/2022-01-28_BINS_XETR18.csv'), s3.ObjectSummary(bucket_name='xetra-1234', key='2022-01-28/2022-01-28_BINS_XETR19.csv'), s3.ObjectSummary(bucket_name='xetra-1234', key='2022-01-28/2022-01-28_BINS_XETR20.csv'), s3.ObjectSummary(bucket_name='xetra-1234', key='2022-01-28/2022-01-28_BINS_XETR21.csv'), s3.ObjectSummary(bucket_name='xetra-1234', key='2022-01-28/2022-01-28_BINS_XETR22.csv'), s3.ObjectSummary(bucket_name='xetra-1234', key='2022-01-28/2022-01-28_BINS_XETR23.csv')]\n"
     ]
    }
   ],
   "source": [
    "#Despues de importar boto3, se debe de indicar que servicio o servicios se van a usar, en este caso s3\n",
    "s3 = boto3.resource('s3')\n",
    "\n",
    "#Se accede al bucket llamado 'xetra-1234' disponible en s3\n",
    "bucket = s3.Bucket('xetra-1234')\n",
    "\n",
    "#Se obtienen los objetos dentro del bucket que cumplan con un criterio de fecha\n",
    "bucket_obj = bucket.objects.filter(Prefix='2022-01-28/')\n",
    "\n",
    "#Se obtienen los objetos mediante un list comprehension\n",
    "objects = [obj for obj in bucket_obj]\n",
    "\n",
    "print(objects)"
   ]
  },
  {
   "cell_type": "code",
   "execution_count": 4,
   "id": "07f6fa51",
   "metadata": {},
   "outputs": [
    {
     "name": "stdout",
     "output_type": "stream",
     "text": [
      "['apple', 'banana', 'cherry', 'kiwi', 'mango']\n"
     ]
    }
   ],
   "source": [
    "#Ejemplo de list comprehension\n",
    "\n",
    "fruits = ['apple', 'banana', 'cherry', 'kiwi', 'mango']\n",
    "\n",
    "new_list = [fruit for fruit in fruits]\n",
    "print(new_list)"
   ]
  },
  {
   "cell_type": "code",
   "execution_count": 5,
   "id": "a97477cb",
   "metadata": {},
   "outputs": [
    {
     "data": {
      "text/plain": [
       "[s3.ObjectSummary(bucket_name='xetra-1234', key='2022-01-25/2022-01-25_BINS_XETR00.csv'),\n",
       " s3.ObjectSummary(bucket_name='xetra-1234', key='2022-01-25/2022-01-25_BINS_XETR01.csv'),\n",
       " s3.ObjectSummary(bucket_name='xetra-1234', key='2022-01-25/2022-01-25_BINS_XETR02.csv'),\n",
       " s3.ObjectSummary(bucket_name='xetra-1234', key='2022-01-25/2022-01-25_BINS_XETR03.csv'),\n",
       " s3.ObjectSummary(bucket_name='xetra-1234', key='2022-01-25/2022-01-25_BINS_XETR04.csv'),\n",
       " s3.ObjectSummary(bucket_name='xetra-1234', key='2022-01-25/2022-01-25_BINS_XETR05.csv'),\n",
       " s3.ObjectSummary(bucket_name='xetra-1234', key='2022-01-25/2022-01-25_BINS_XETR06.csv'),\n",
       " s3.ObjectSummary(bucket_name='xetra-1234', key='2022-01-25/2022-01-25_BINS_XETR07.csv'),\n",
       " s3.ObjectSummary(bucket_name='xetra-1234', key='2022-01-25/2022-01-25_BINS_XETR08.csv'),\n",
       " s3.ObjectSummary(bucket_name='xetra-1234', key='2022-01-25/2022-01-25_BINS_XETR09.csv'),\n",
       " s3.ObjectSummary(bucket_name='xetra-1234', key='2022-01-25/2022-01-25_BINS_XETR10.csv'),\n",
       " s3.ObjectSummary(bucket_name='xetra-1234', key='2022-01-25/2022-01-25_BINS_XETR11.csv'),\n",
       " s3.ObjectSummary(bucket_name='xetra-1234', key='2022-01-25/2022-01-25_BINS_XETR12.csv'),\n",
       " s3.ObjectSummary(bucket_name='xetra-1234', key='2022-01-25/2022-01-25_BINS_XETR13.csv'),\n",
       " s3.ObjectSummary(bucket_name='xetra-1234', key='2022-01-25/2022-01-25_BINS_XETR14.csv'),\n",
       " s3.ObjectSummary(bucket_name='xetra-1234', key='2022-01-25/2022-01-25_BINS_XETR15.csv'),\n",
       " s3.ObjectSummary(bucket_name='xetra-1234', key='2022-01-25/2022-01-25_BINS_XETR16.csv'),\n",
       " s3.ObjectSummary(bucket_name='xetra-1234', key='2022-01-25/2022-01-25_BINS_XETR17.csv'),\n",
       " s3.ObjectSummary(bucket_name='xetra-1234', key='2022-01-25/2022-01-25_BINS_XETR18.csv'),\n",
       " s3.ObjectSummary(bucket_name='xetra-1234', key='2022-01-25/2022-01-25_BINS_XETR19.csv'),\n",
       " s3.ObjectSummary(bucket_name='xetra-1234', key='2022-01-25/2022-01-25_BINS_XETR20.csv'),\n",
       " s3.ObjectSummary(bucket_name='xetra-1234', key='2022-01-25/2022-01-25_BINS_XETR21.csv'),\n",
       " s3.ObjectSummary(bucket_name='xetra-1234', key='2022-01-25/2022-01-25_BINS_XETR22.csv'),\n",
       " s3.ObjectSummary(bucket_name='xetra-1234', key='2022-01-25/2022-01-25_BINS_XETR23.csv'),\n",
       " s3.ObjectSummary(bucket_name='xetra-1234', key='2022-01-26/2022-01-26_BINS_XETR00.csv'),\n",
       " s3.ObjectSummary(bucket_name='xetra-1234', key='2022-01-26/2022-01-26_BINS_XETR01.csv'),\n",
       " s3.ObjectSummary(bucket_name='xetra-1234', key='2022-01-26/2022-01-26_BINS_XETR02.csv'),\n",
       " s3.ObjectSummary(bucket_name='xetra-1234', key='2022-01-26/2022-01-26_BINS_XETR03.csv'),\n",
       " s3.ObjectSummary(bucket_name='xetra-1234', key='2022-01-26/2022-01-26_BINS_XETR04.csv'),\n",
       " s3.ObjectSummary(bucket_name='xetra-1234', key='2022-01-26/2022-01-26_BINS_XETR05.csv'),\n",
       " s3.ObjectSummary(bucket_name='xetra-1234', key='2022-01-26/2022-01-26_BINS_XETR06.csv'),\n",
       " s3.ObjectSummary(bucket_name='xetra-1234', key='2022-01-26/2022-01-26_BINS_XETR07.csv'),\n",
       " s3.ObjectSummary(bucket_name='xetra-1234', key='2022-01-26/2022-01-26_BINS_XETR08.csv'),\n",
       " s3.ObjectSummary(bucket_name='xetra-1234', key='2022-01-26/2022-01-26_BINS_XETR09.csv'),\n",
       " s3.ObjectSummary(bucket_name='xetra-1234', key='2022-01-26/2022-01-26_BINS_XETR10.csv'),\n",
       " s3.ObjectSummary(bucket_name='xetra-1234', key='2022-01-26/2022-01-26_BINS_XETR11.csv'),\n",
       " s3.ObjectSummary(bucket_name='xetra-1234', key='2022-01-26/2022-01-26_BINS_XETR12.csv'),\n",
       " s3.ObjectSummary(bucket_name='xetra-1234', key='2022-01-26/2022-01-26_BINS_XETR13.csv'),\n",
       " s3.ObjectSummary(bucket_name='xetra-1234', key='2022-01-26/2022-01-26_BINS_XETR14.csv'),\n",
       " s3.ObjectSummary(bucket_name='xetra-1234', key='2022-01-26/2022-01-26_BINS_XETR15.csv'),\n",
       " s3.ObjectSummary(bucket_name='xetra-1234', key='2022-01-26/2022-01-26_BINS_XETR16.csv'),\n",
       " s3.ObjectSummary(bucket_name='xetra-1234', key='2022-01-26/2022-01-26_BINS_XETR17.csv'),\n",
       " s3.ObjectSummary(bucket_name='xetra-1234', key='2022-01-26/2022-01-26_BINS_XETR18.csv'),\n",
       " s3.ObjectSummary(bucket_name='xetra-1234', key='2022-01-26/2022-01-26_BINS_XETR19.csv'),\n",
       " s3.ObjectSummary(bucket_name='xetra-1234', key='2022-01-26/2022-01-26_BINS_XETR20.csv'),\n",
       " s3.ObjectSummary(bucket_name='xetra-1234', key='2022-01-26/2022-01-26_BINS_XETR21.csv'),\n",
       " s3.ObjectSummary(bucket_name='xetra-1234', key='2022-01-26/2022-01-26_BINS_XETR22.csv'),\n",
       " s3.ObjectSummary(bucket_name='xetra-1234', key='2022-01-26/2022-01-26_BINS_XETR23.csv')]"
      ]
     },
     "execution_count": 5,
     "metadata": {},
     "output_type": "execute_result"
    }
   ],
   "source": []
  }
 ],
 "metadata": {
  "kernelspec": {
   "display_name": "Python 3",
   "language": "python",
   "name": "python3"
  },
  "language_info": {
   "codemirror_mode": {
    "name": "ipython",
    "version": 3
   },
   "file_extension": ".py",
   "mimetype": "text/x-python",
   "name": "python",
   "nbconvert_exporter": "python",
   "pygments_lexer": "ipython3",
   "version": "3.11.2"
  },
  "vscode": {
   "interpreter": {
    "hash": "aee8b7b246df8f9039afb4144a1f6fd8d2ca17a180786b69acc140d282b71a49"
   }
  }
 },
 "nbformat": 4,
 "nbformat_minor": 5
}
