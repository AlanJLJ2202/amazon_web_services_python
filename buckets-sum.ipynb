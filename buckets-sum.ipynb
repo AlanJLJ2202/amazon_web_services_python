{
 "cells": [
  {
   "cell_type": "code",
   "execution_count": 15,
   "metadata": {},
   "outputs": [],
   "source": [
    "import boto3 as boto3\n",
    "import pandas as pd\n",
    "from io import StringIO"
   ]
  },
  {
   "cell_type": "code",
   "execution_count": 16,
   "metadata": {},
   "outputs": [],
   "source": [
    "#Despues de importar boto3, se debe de indicar que servicio o servicios se van a usar, en este caso s3\n",
    "s3 = boto3.resource('s3')\n",
    "\n",
    "#Se accede al bucket llamado 'xetra-1234' disponible en s3\n",
    "bucket = s3.Bucket('xetra-1234')\n",
    "\n",
    "#Se obtienen los objetos dentro del bucket que cumplan con un criterio de fecha\n",
    "bucket_obj = bucket.objects.filter(Prefix='2022-01-28/')\n",
    "\n",
    "#Se obtienen los objetos mediante un list comprehension\n",
    "objects = [obj for obj in bucket_obj]\n",
    "\n",
    "#print(objects)"
   ]
  },
  {
   "cell_type": "code",
   "execution_count": 17,
   "metadata": {},
   "outputs": [
    {
     "data": {
      "text/plain": [
       "[s3.ObjectSummary(bucket_name='xetra-1234', key='2022-01-25/2022-01-25_BINS_XETR00.csv'),\n",
       " s3.ObjectSummary(bucket_name='xetra-1234', key='2022-01-25/2022-01-25_BINS_XETR01.csv'),\n",
       " s3.ObjectSummary(bucket_name='xetra-1234', key='2022-01-25/2022-01-25_BINS_XETR02.csv'),\n",
       " s3.ObjectSummary(bucket_name='xetra-1234', key='2022-01-25/2022-01-25_BINS_XETR03.csv'),\n",
       " s3.ObjectSummary(bucket_name='xetra-1234', key='2022-01-25/2022-01-25_BINS_XETR04.csv'),\n",
       " s3.ObjectSummary(bucket_name='xetra-1234', key='2022-01-25/2022-01-25_BINS_XETR05.csv'),\n",
       " s3.ObjectSummary(bucket_name='xetra-1234', key='2022-01-25/2022-01-25_BINS_XETR06.csv'),\n",
       " s3.ObjectSummary(bucket_name='xetra-1234', key='2022-01-25/2022-01-25_BINS_XETR07.csv'),\n",
       " s3.ObjectSummary(bucket_name='xetra-1234', key='2022-01-25/2022-01-25_BINS_XETR08.csv'),\n",
       " s3.ObjectSummary(bucket_name='xetra-1234', key='2022-01-25/2022-01-25_BINS_XETR09.csv'),\n",
       " s3.ObjectSummary(bucket_name='xetra-1234', key='2022-01-25/2022-01-25_BINS_XETR10.csv'),\n",
       " s3.ObjectSummary(bucket_name='xetra-1234', key='2022-01-25/2022-01-25_BINS_XETR11.csv'),\n",
       " s3.ObjectSummary(bucket_name='xetra-1234', key='2022-01-25/2022-01-25_BINS_XETR12.csv'),\n",
       " s3.ObjectSummary(bucket_name='xetra-1234', key='2022-01-25/2022-01-25_BINS_XETR13.csv'),\n",
       " s3.ObjectSummary(bucket_name='xetra-1234', key='2022-01-25/2022-01-25_BINS_XETR14.csv'),\n",
       " s3.ObjectSummary(bucket_name='xetra-1234', key='2022-01-25/2022-01-25_BINS_XETR15.csv'),\n",
       " s3.ObjectSummary(bucket_name='xetra-1234', key='2022-01-25/2022-01-25_BINS_XETR16.csv'),\n",
       " s3.ObjectSummary(bucket_name='xetra-1234', key='2022-01-25/2022-01-25_BINS_XETR17.csv'),\n",
       " s3.ObjectSummary(bucket_name='xetra-1234', key='2022-01-25/2022-01-25_BINS_XETR18.csv'),\n",
       " s3.ObjectSummary(bucket_name='xetra-1234', key='2022-01-25/2022-01-25_BINS_XETR19.csv'),\n",
       " s3.ObjectSummary(bucket_name='xetra-1234', key='2022-01-25/2022-01-25_BINS_XETR20.csv'),\n",
       " s3.ObjectSummary(bucket_name='xetra-1234', key='2022-01-25/2022-01-25_BINS_XETR21.csv'),\n",
       " s3.ObjectSummary(bucket_name='xetra-1234', key='2022-01-25/2022-01-25_BINS_XETR22.csv'),\n",
       " s3.ObjectSummary(bucket_name='xetra-1234', key='2022-01-25/2022-01-25_BINS_XETR23.csv'),\n",
       " s3.ObjectSummary(bucket_name='xetra-1234', key='2022-01-26/2022-01-26_BINS_XETR00.csv'),\n",
       " s3.ObjectSummary(bucket_name='xetra-1234', key='2022-01-26/2022-01-26_BINS_XETR01.csv'),\n",
       " s3.ObjectSummary(bucket_name='xetra-1234', key='2022-01-26/2022-01-26_BINS_XETR02.csv'),\n",
       " s3.ObjectSummary(bucket_name='xetra-1234', key='2022-01-26/2022-01-26_BINS_XETR03.csv'),\n",
       " s3.ObjectSummary(bucket_name='xetra-1234', key='2022-01-26/2022-01-26_BINS_XETR04.csv'),\n",
       " s3.ObjectSummary(bucket_name='xetra-1234', key='2022-01-26/2022-01-26_BINS_XETR05.csv'),\n",
       " s3.ObjectSummary(bucket_name='xetra-1234', key='2022-01-26/2022-01-26_BINS_XETR06.csv'),\n",
       " s3.ObjectSummary(bucket_name='xetra-1234', key='2022-01-26/2022-01-26_BINS_XETR07.csv'),\n",
       " s3.ObjectSummary(bucket_name='xetra-1234', key='2022-01-26/2022-01-26_BINS_XETR08.csv'),\n",
       " s3.ObjectSummary(bucket_name='xetra-1234', key='2022-01-26/2022-01-26_BINS_XETR09.csv'),\n",
       " s3.ObjectSummary(bucket_name='xetra-1234', key='2022-01-26/2022-01-26_BINS_XETR10.csv'),\n",
       " s3.ObjectSummary(bucket_name='xetra-1234', key='2022-01-26/2022-01-26_BINS_XETR11.csv'),\n",
       " s3.ObjectSummary(bucket_name='xetra-1234', key='2022-01-26/2022-01-26_BINS_XETR12.csv'),\n",
       " s3.ObjectSummary(bucket_name='xetra-1234', key='2022-01-26/2022-01-26_BINS_XETR13.csv'),\n",
       " s3.ObjectSummary(bucket_name='xetra-1234', key='2022-01-26/2022-01-26_BINS_XETR14.csv'),\n",
       " s3.ObjectSummary(bucket_name='xetra-1234', key='2022-01-26/2022-01-26_BINS_XETR15.csv'),\n",
       " s3.ObjectSummary(bucket_name='xetra-1234', key='2022-01-26/2022-01-26_BINS_XETR16.csv'),\n",
       " s3.ObjectSummary(bucket_name='xetra-1234', key='2022-01-26/2022-01-26_BINS_XETR17.csv'),\n",
       " s3.ObjectSummary(bucket_name='xetra-1234', key='2022-01-26/2022-01-26_BINS_XETR18.csv'),\n",
       " s3.ObjectSummary(bucket_name='xetra-1234', key='2022-01-26/2022-01-26_BINS_XETR19.csv'),\n",
       " s3.ObjectSummary(bucket_name='xetra-1234', key='2022-01-26/2022-01-26_BINS_XETR20.csv'),\n",
       " s3.ObjectSummary(bucket_name='xetra-1234', key='2022-01-26/2022-01-26_BINS_XETR21.csv'),\n",
       " s3.ObjectSummary(bucket_name='xetra-1234', key='2022-01-26/2022-01-26_BINS_XETR22.csv'),\n",
       " s3.ObjectSummary(bucket_name='xetra-1234', key='2022-01-26/2022-01-26_BINS_XETR23.csv')]"
      ]
     },
     "execution_count": 17,
     "metadata": {},
     "output_type": "execute_result"
    }
   ],
   "source": [
    "#Extraer dos buckets y sumarlos\n",
    "\n",
    "bucket_obj1 = bucket.objects.filter(Prefix='2022-01-25/')\n",
    "bucket_obj2 = bucket.objects.filter(Prefix='2022-01-26/')\n",
    "objects = [obj for obj in bucket_obj1] + [obj for obj in bucket_obj2]\n",
    "\n",
    "objects"
   ]
  },
  {
   "cell_type": "code",
   "execution_count": 18,
   "metadata": {},
   "outputs": [
    {
     "data": {
      "text/html": [
       "<div>\n",
       "<style scoped>\n",
       "    .dataframe tbody tr th:only-of-type {\n",
       "        vertical-align: middle;\n",
       "    }\n",
       "\n",
       "    .dataframe tbody tr th {\n",
       "        vertical-align: top;\n",
       "    }\n",
       "\n",
       "    .dataframe thead th {\n",
       "        text-align: right;\n",
       "    }\n",
       "</style>\n",
       "<table border=\"1\" class=\"dataframe\">\n",
       "  <thead>\n",
       "    <tr style=\"text-align: right;\">\n",
       "      <th></th>\n",
       "      <th>ISIN</th>\n",
       "      <th>Mnemonic</th>\n",
       "      <th>SecurityDesc</th>\n",
       "      <th>SecurityType</th>\n",
       "      <th>Currency</th>\n",
       "      <th>SecurityID</th>\n",
       "      <th>Date</th>\n",
       "      <th>Time</th>\n",
       "      <th>StartPrice</th>\n",
       "      <th>MaxPrice</th>\n",
       "      <th>MinPrice</th>\n",
       "      <th>EndPrice</th>\n",
       "      <th>TradedVolume</th>\n",
       "      <th>NumberOfTrades</th>\n",
       "    </tr>\n",
       "  </thead>\n",
       "  <tbody>\n",
       "  </tbody>\n",
       "</table>\n",
       "</div>"
      ],
      "text/plain": [
       "Empty DataFrame\n",
       "Columns: [ISIN, Mnemonic, SecurityDesc, SecurityType, Currency, SecurityID, Date, Time, StartPrice, MaxPrice, MinPrice, EndPrice, TradedVolume, NumberOfTrades]\n",
       "Index: []"
      ]
     },
     "execution_count": 18,
     "metadata": {},
     "output_type": "execute_result"
    }
   ],
   "source": [
    "csv_object_init = bucket.Object(objects[0].key).get().get('Body').read().decode('utf-8')\n",
    "data = StringIO(csv_object_init)\n",
    "df_init = pd.read_csv(data, delimiter=',')\n",
    "df_init"
   ]
  },
  {
   "cell_type": "code",
   "execution_count": null,
   "metadata": {},
   "outputs": [],
   "source": []
  }
 ],
 "metadata": {
  "kernelspec": {
   "display_name": "Python 3",
   "language": "python",
   "name": "python3"
  },
  "language_info": {
   "codemirror_mode": {
    "name": "ipython",
    "version": 3
   },
   "file_extension": ".py",
   "mimetype": "text/x-python",
   "name": "python",
   "nbconvert_exporter": "python",
   "pygments_lexer": "ipython3",
   "version": "3.11.2"
  },
  "orig_nbformat": 4,
  "vscode": {
   "interpreter": {
    "hash": "aee8b7b246df8f9039afb4144a1f6fd8d2ca17a180786b69acc140d282b71a49"
   }
  }
 },
 "nbformat": 4,
 "nbformat_minor": 2
}
